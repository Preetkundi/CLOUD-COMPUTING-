{
  "nbformat": 4,
  "nbformat_minor": 0,
  "metadata": {
    "colab": {
      "provenance": [],
      "toc_visible": true,
      "authorship_tag": "ABX9TyOJvMrEV8mYfRuLpQXavnv/",
      "include_colab_link": true
    },
    "kernelspec": {
      "name": "python3",
      "display_name": "Python 3"
    },
    "language_info": {
      "name": "python"
    }
  },
  "cells": [
    {
      "cell_type": "markdown",
      "metadata": {
        "id": "view-in-github",
        "colab_type": "text"
      },
      "source": [
        "<a href=\"https://colab.research.google.com/github/Preetkundi/CLOUD-COMPUTING-/blob/main/ASS2.ipynb\" target=\"_parent\"><img src=\"https://colab.research.google.com/assets/colab-badge.svg\" alt=\"Open In Colab\"/></a>"
      ]
    },
    {
      "cell_type": "code",
      "execution_count": 8,
      "metadata": {
        "colab": {
          "base_uri": "https://localhost:8080/"
        },
        "id": "uPrf6kPQcsKH",
        "outputId": "b27e09c4-bc1c-4e0e-d59c-f6afa52085e2"
      },
      "outputs": [
        {
          "output_type": "stream",
          "name": "stdout",
          "text": [
            "Thread 1: 1Thread 2: 1\n",
            "\n",
            "Thread 1: 2Thread 2: 2\n",
            "\n",
            "Thread 2: 3\n",
            "Thread 1: 3\n",
            "Thread 2: 4Thread 1: 4\n",
            "\n",
            "Thread 1: 5Thread 2: 5\n",
            "\n",
            "Thread 2: 6Thread 1: 6\n",
            "\n",
            "Thread 2: 7\n",
            "Thread 1: 7\n",
            "Thread 2: 8\n",
            "Thread 1: 8\n",
            "Thread 2: 9Thread 1: 9\n",
            "\n",
            "Thread 2: 10\n",
            "Thread 1: 10\n",
            "Both threads have completed.\n"
          ]
        }
      ],
      "source": [
        "import threading\n",
        "import time\n",
        "\n",
        "def print_numbers(thread_name):\n",
        "    for i in range(1, 11):  # Indent this block\n",
        "        print(f\"{thread_name}: {i}\")\n",
        "        time.sleep(1)\n",
        "\n",
        "# Create two threads\n",
        "thread1 = threading.Thread(target=print_numbers, args=(\"Thread 1\",))\n",
        "thread2 = threading.Thread(target=print_numbers, args=(\"Thread 2\",))\n",
        "\n",
        "# Start the threads\n",
        "thread1.start()\n",
        "thread2.start()\n",
        "\n",
        "# Wait for both threads to complete\n",
        "thread1.join()\n",
        "thread2.join()\n",
        "\n",
        "print(\"Both threads have completed.\")\n"
      ]
    },
    {
      "cell_type": "code",
      "source": [
        "from flask import Flask\n",
        "import threading\n",
        "import time\n",
        "\n",
        "app = Flask(__name__)\n",
        "\n",
        "def print_numbers(thread_name):\n",
        "    for i in range(1, 11):\n",
        "        print(f\"{thread_name}: {i}\")\n",
        "        time.sleep(1)\n",
        "\n",
        "@app.route('/')\n",
        "def index():\n",
        "    thread1 = threading.Thread(target=print_numbers, args=(\"Thread 1\",))\n",
        "    thread2 = threading.Thread(target=print_numbers, args=(\"Thread 2\",))\n",
        "    thread1.start()\n",
        "    thread2.start()\n",
        "    return \"Threads started!\"\n",
        "\n",
        "if __name__ == '__main__':\n",
        "    app.run(debug=True)\n"
      ],
      "metadata": {
        "colab": {
          "base_uri": "https://localhost:8080/"
        },
        "id": "jnnDZykJjYNp",
        "outputId": "555aa081-87b2-43f5-c10d-2bb3628e9229"
      },
      "execution_count": null,
      "outputs": [
        {
          "output_type": "stream",
          "name": "stdout",
          "text": [
            " * Serving Flask app '__main__'\n",
            " * Debug mode: on\n"
          ]
        },
        {
          "output_type": "stream",
          "name": "stderr",
          "text": [
            "INFO:werkzeug:\u001b[31m\u001b[1mWARNING: This is a development server. Do not use it in a production deployment. Use a production WSGI server instead.\u001b[0m\n",
            " * Running on http://127.0.0.1:5000\n",
            "INFO:werkzeug:\u001b[33mPress CTRL+C to quit\u001b[0m\n",
            "INFO:werkzeug: * Restarting with stat\n"
          ]
        }
      ]
    },
    {
      "cell_type": "code",
      "source": [
        "!ngrok authtoken 2kPO1WNQKnaQenKLwWQarrazyXM_3CfwGsn6XfYVn4v19FxFx"
      ],
      "metadata": {
        "colab": {
          "base_uri": "https://localhost:8080/"
        },
        "id": "3FzW9lcsmZKw",
        "outputId": "4eeebf3a-9f44-4e4a-893a-6445bbfdbfe8"
      },
      "execution_count": 13,
      "outputs": [
        {
          "output_type": "stream",
          "name": "stdout",
          "text": [
            "Authtoken saved to configuration file: /root/.config/ngrok/ngrok.yml\n"
          ]
        }
      ]
    },
    {
      "cell_type": "code",
      "source": [
        "!pip install Flask pyngrok"
      ],
      "metadata": {
        "colab": {
          "base_uri": "https://localhost:8080/"
        },
        "id": "5ETdb1hkmJkN",
        "outputId": "d5442d59-f2e5-402e-f83f-d0da586c0904"
      },
      "execution_count": 12,
      "outputs": [
        {
          "output_type": "stream",
          "name": "stdout",
          "text": [
            "Requirement already satisfied: Flask in /usr/local/lib/python3.10/dist-packages (2.2.5)\n",
            "Collecting pyngrok\n",
            "  Downloading pyngrok-7.2.0-py3-none-any.whl.metadata (7.4 kB)\n",
            "Requirement already satisfied: Werkzeug>=2.2.2 in /usr/local/lib/python3.10/dist-packages (from Flask) (3.0.3)\n",
            "Requirement already satisfied: Jinja2>=3.0 in /usr/local/lib/python3.10/dist-packages (from Flask) (3.1.4)\n",
            "Requirement already satisfied: itsdangerous>=2.0 in /usr/local/lib/python3.10/dist-packages (from Flask) (2.2.0)\n",
            "Requirement already satisfied: click>=8.0 in /usr/local/lib/python3.10/dist-packages (from Flask) (8.1.7)\n",
            "Requirement already satisfied: PyYAML>=5.1 in /usr/local/lib/python3.10/dist-packages (from pyngrok) (6.0.2)\n",
            "Requirement already satisfied: MarkupSafe>=2.0 in /usr/local/lib/python3.10/dist-packages (from Jinja2>=3.0->Flask) (2.1.5)\n",
            "Downloading pyngrok-7.2.0-py3-none-any.whl (22 kB)\n",
            "Installing collected packages: pyngrok\n",
            "Successfully installed pyngrok-7.2.0\n"
          ]
        }
      ]
    },
    {
      "cell_type": "code",
      "source": [
        "from flask import Flask\n",
        "import threading\n",
        "import time\n",
        "from pyngrok import ngrok\n",
        "\n",
        "app = Flask(__name__)\n",
        "\n",
        "def print_numbers(thread_name):\n",
        "    for i in range(1, 11):\n",
        "        print(f\"{thread_name}: {i}\")\n",
        "        time.sleep(1)\n",
        "\n",
        "@app.route('/')\n",
        "def index():\n",
        "    thread1 = threading.Thread(target=print_numbers, args=(\"Thread 1\",))\n",
        "    thread2 = threading.Thread(target=print_numbers, args=(\"Thread 2\",))\n",
        "    thread1.start()\n",
        "    thread2.start()\n",
        "    return \"Threads started!\"\n",
        "\n",
        "# Create a tunnel to the public web\n",
        "ngrok_tunnel = ngrok.connect(5000)\n",
        "print(\"Public URL:\", ngrok_tunnel.public_url)\n",
        "\n",
        "if __name__ == '__main__':\n",
        "    app.run(port=5000)\n"
      ],
      "metadata": {
        "id": "lEavjUKLm9kw"
      },
      "execution_count": null,
      "outputs": []
    }
  ]
}